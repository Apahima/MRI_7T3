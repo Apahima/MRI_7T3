{
 "cells": [
  {
   "cell_type": "code",
   "execution_count": 10,
   "metadata": {},
   "outputs": [
    {
     "ename": "ModuleNotFoundError",
     "evalue": "No module named 'tensorboardX'",
     "output_type": "error",
     "traceback": [
      "\u001b[1;31m---------------------------------------------------------------------------\u001b[0m",
      "\u001b[1;31mModuleNotFoundError\u001b[0m                       Traceback (most recent call last)",
      "\u001b[1;32m<ipython-input-10-ad6a12f5d88c>\u001b[0m in \u001b[0;36m<module>\u001b[1;34m\u001b[0m\n\u001b[0;32m      3\u001b[0m \u001b[1;32mfrom\u001b[0m \u001b[0mfastMRI\u001b[0m\u001b[1;33m.\u001b[0m\u001b[0mdata\u001b[0m \u001b[1;32mimport\u001b[0m \u001b[0mtransforms\u001b[0m \u001b[1;32mas\u001b[0m \u001b[0mTtorch\u001b[0m\u001b[1;33m\u001b[0m\u001b[1;33m\u001b[0m\u001b[0m\n\u001b[0;32m      4\u001b[0m \u001b[1;32mimport\u001b[0m \u001b[0mlowfieldsim\u001b[0m \u001b[1;32mas\u001b[0m \u001b[0msimulator_MRI\u001b[0m\u001b[1;33m\u001b[0m\u001b[1;33m\u001b[0m\u001b[0m\n\u001b[1;32m----> 5\u001b[1;33m \u001b[1;32mimport\u001b[0m \u001b[0mUnet_MRI_7T3\u001b[0m \u001b[1;32mas\u001b[0m \u001b[0mUnet\u001b[0m\u001b[1;33m\u001b[0m\u001b[1;33m\u001b[0m\u001b[0m\n\u001b[0m\u001b[0;32m      6\u001b[0m \u001b[1;32mimport\u001b[0m \u001b[0mmatplotlib\u001b[0m\u001b[1;33m.\u001b[0m\u001b[0mpyplot\u001b[0m \u001b[1;32mas\u001b[0m \u001b[0mplt\u001b[0m\u001b[1;33m\u001b[0m\u001b[1;33m\u001b[0m\u001b[0m\n\u001b[0;32m      7\u001b[0m \u001b[1;32mimport\u001b[0m \u001b[0mnumpy\u001b[0m \u001b[1;32mas\u001b[0m \u001b[0mnp\u001b[0m\u001b[1;33m\u001b[0m\u001b[1;33m\u001b[0m\u001b[0m\n",
      "\u001b[1;32m~\\PycharmProjects\\MRI_7T3\\Unet_MRI_7T3.py\u001b[0m in \u001b[0;36m<module>\u001b[1;34m\u001b[0m\n\u001b[0;32m     11\u001b[0m \u001b[1;32mimport\u001b[0m \u001b[0mtorchvision\u001b[0m\u001b[1;33m\u001b[0m\u001b[1;33m\u001b[0m\u001b[0m\n\u001b[0;32m     12\u001b[0m \u001b[1;32mfrom\u001b[0m \u001b[0mlowfieldsim\u001b[0m \u001b[1;32mimport\u001b[0m \u001b[0mlowfieldsim\u001b[0m \u001b[1;32mas\u001b[0m \u001b[0msimulator_MRI\u001b[0m\u001b[1;33m\u001b[0m\u001b[1;33m\u001b[0m\u001b[0m\n\u001b[1;32m---> 13\u001b[1;33m \u001b[1;32mfrom\u001b[0m \u001b[0mtensorboardX\u001b[0m \u001b[1;32mimport\u001b[0m \u001b[0mSummaryWriter\u001b[0m\u001b[1;33m\u001b[0m\u001b[1;33m\u001b[0m\u001b[0m\n\u001b[0m\u001b[0;32m     14\u001b[0m \u001b[1;32mfrom\u001b[0m \u001b[0mtorch\u001b[0m\u001b[1;33m.\u001b[0m\u001b[0mnn\u001b[0m \u001b[1;32mimport\u001b[0m \u001b[0mfunctional\u001b[0m \u001b[1;32mas\u001b[0m \u001b[0mF\u001b[0m\u001b[1;33m\u001b[0m\u001b[1;33m\u001b[0m\u001b[0m\n\u001b[0;32m     15\u001b[0m \u001b[1;32mfrom\u001b[0m \u001b[0mtorch\u001b[0m\u001b[1;33m.\u001b[0m\u001b[0mutils\u001b[0m\u001b[1;33m.\u001b[0m\u001b[0mdata\u001b[0m \u001b[1;32mimport\u001b[0m \u001b[0mDataLoader\u001b[0m\u001b[1;33m\u001b[0m\u001b[1;33m\u001b[0m\u001b[0m\n",
      "\u001b[1;31mModuleNotFoundError\u001b[0m: No module named 'tensorboardX'"
     ]
    }
   ],
   "source": [
    "import lowfieldsim\n",
    "import scipy.io\n",
    "from fastMRI.data import transforms as Ttorch\n",
    "import lowfieldsim as simulator_MRI\n",
    "import Unet_MRI_7T3 as Unet\n",
    "import matplotlib.pyplot as plt\n",
    "import numpy as np\n",
    "import torch\n",
    "\n",
    "\n",
    "%load_ext autoreload\n",
    "%autoreload 2"
   ]
  },
  {
   "cell_type": "code",
   "execution_count": 5,
   "metadata": {},
   "outputs": [],
   "source": [
    "mat_contents = scipy.io.loadmat('fat-water@3T-3echo.mat')\n",
    "B0_low = 0.3\n",
    "sorted(mat_contents.keys())\n",
    "k_high_T = Ttorch.to_tensor(mat_contents['k_high'])"
   ]
  },
  {
   "cell_type": "code",
   "execution_count": 6,
   "metadata": {},
   "outputs": [
    {
     "name": "stdout",
     "output_type": "stream",
     "text": [
      "torch.Size([168, 168, 1, 3, 8, 2])\n"
     ]
    }
   ],
   "source": [
    "print(k_high_T.shape)"
   ]
  },
  {
   "cell_type": "markdown",
   "metadata": {},
   "source": [
    "### <font size=15> Testing simulator with known input \n"
   ]
  },
  {
   "cell_type": "code",
   "execution_count": 7,
   "metadata": {},
   "outputs": [],
   "source": [
    "Test_lowfieldsim = simulator_MRI.lowfieldsim()\n",
    "low_res_real, high_res_real,img_low_combined ,img_high_combined = Test_lowfieldsim.lowfieldsim(k_high_T[:128,:128])\n",
    "# *_res_real is image with size [image_w, image_h, #coils]"
   ]
  },
  {
   "cell_type": "code",
   "execution_count": 8,
   "metadata": {},
   "outputs": [],
   "source": [
    "# img_low_combined = img_low_combined.numpy()\n",
    "# img_low_combined = (img_low_combined - np.amin(img_low_combined))/ (np.amax(img_low_combined)-np.amin(img_low_combined))\n",
    "# print(low_res_real[0,0,0])\n",
    "# print(np.amin(img_low_combined))"
   ]
  },
  {
   "cell_type": "code",
   "execution_count": 9,
   "metadata": {},
   "outputs": [
    {
     "ename": "NameError",
     "evalue": "name 'plt' is not defined",
     "output_type": "error",
     "traceback": [
      "\u001b[1;31m---------------------------------------------------------------------------\u001b[0m",
      "\u001b[1;31mNameError\u001b[0m                                 Traceback (most recent call last)",
      "\u001b[1;32m<ipython-input-9-c2fd86501219>\u001b[0m in \u001b[0;36m<module>\u001b[1;34m\u001b[0m\n\u001b[1;32m----> 1\u001b[1;33m \u001b[0mplt\u001b[0m\u001b[1;33m.\u001b[0m\u001b[0mfigure\u001b[0m\u001b[1;33m(\u001b[0m\u001b[0mfigsize\u001b[0m\u001b[1;33m=\u001b[0m\u001b[1;33m(\u001b[0m\u001b[1;36m15\u001b[0m\u001b[1;33m,\u001b[0m \u001b[1;36m15\u001b[0m\u001b[1;33m)\u001b[0m\u001b[1;33m)\u001b[0m\u001b[1;33m\u001b[0m\u001b[1;33m\u001b[0m\u001b[0m\n\u001b[0m\u001b[0;32m      2\u001b[0m \u001b[1;33m\u001b[0m\u001b[0m\n\u001b[0;32m      3\u001b[0m \u001b[1;31m# Accquired\u001b[0m\u001b[1;33m\u001b[0m\u001b[1;33m\u001b[0m\u001b[1;33m\u001b[0m\u001b[0m\n\u001b[0;32m      4\u001b[0m \u001b[0mplt\u001b[0m\u001b[1;33m.\u001b[0m\u001b[0msubplot\u001b[0m\u001b[1;33m(\u001b[0m\u001b[1;36m121\u001b[0m\u001b[1;33m)\u001b[0m\u001b[1;33m,\u001b[0m\u001b[1;33m\u001b[0m\u001b[1;33m\u001b[0m\u001b[0m\n\u001b[0;32m      5\u001b[0m \u001b[0mplt\u001b[0m\u001b[1;33m.\u001b[0m\u001b[0mimshow\u001b[0m\u001b[1;33m(\u001b[0m\u001b[0mnp\u001b[0m\u001b[1;33m.\u001b[0m\u001b[0msqrt\u001b[0m\u001b[1;33m(\u001b[0m\u001b[1;33m(\u001b[0m\u001b[0mimg_high_combined\u001b[0m\u001b[1;33m)\u001b[0m\u001b[1;33m)\u001b[0m\u001b[1;33m,\u001b[0m \u001b[0mcmap\u001b[0m\u001b[1;33m=\u001b[0m\u001b[1;34m'gray'\u001b[0m\u001b[1;33m)\u001b[0m\u001b[1;33m\u001b[0m\u001b[1;33m\u001b[0m\u001b[0m\n",
      "\u001b[1;31mNameError\u001b[0m: name 'plt' is not defined"
     ]
    }
   ],
   "source": [
    "plt.figure(figsize=(15, 15))\n",
    "\n",
    "# Accquired\n",
    "plt.subplot(121),\n",
    "plt.imshow(np.sqrt((img_high_combined)), cmap='gray')\n",
    "plt.title('Accquired @ 3T')\n",
    "\n",
    "# low field\n",
    "plt.subplot(122),\n",
    "plt.imshow(np.sqrt((img_low_combined)), cmap='gray');\n",
    "plt.title(\"Simulated @ 0.5 T\" )"
   ]
  },
  {
   "cell_type": "markdown",
   "metadata": {},
   "source": [
    "### <font size=15> Testing MRI_Unet get_data function"
   ]
  },
  {
   "cell_type": "code",
   "execution_count": null,
   "metadata": {},
   "outputs": [],
   "source": [
    "Testing_get_data = Unet.get_data\n",
    "input_mr, target, output_gt = Testing_get_data(k_high_T)"
   ]
  },
  {
   "cell_type": "code",
   "execution_count": null,
   "metadata": {},
   "outputs": [],
   "source": [
    "#Target should be lowfield MRI\n",
    "print(target.shape)\n",
    "target_per = target.permute(1,2,0)\n",
    "print(target.shape)\n",
    "\n",
    "#Output ground thrut is the high field image\n",
    "print(output_gt.shape)\n",
    "output_gt_per = output_gt.permute(1,2,0)\n",
    "print(output_gt.shape)"
   ]
  },
  {
   "cell_type": "code",
   "execution_count": null,
   "metadata": {},
   "outputs": [],
   "source": [
    "plt.figure(figsize=(15, 15))\n",
    "\n",
    "# Accquired\n",
    "plt.subplot(121),\n",
    "plt.imshow(np.sqrt(torch.sum(output_gt_per,2)), cmap='gray')\n",
    "plt.title('Accquired @ 3T')\n",
    "\n",
    "# low field\n",
    "plt.subplot(122),\n",
    "plt.imshow(np.sqrt(torch.sum(target_per,2)), cmap='gray');\n",
    "plt.title(\"Simulated @ 0.5 T\" )"
   ]
  },
  {
   "cell_type": "markdown",
   "metadata": {},
   "source": [
    "### <font size=15> Testing MRI_Unet end to end"
   ]
  },
  {
   "cell_type": "code",
   "execution_count": 22,
   "metadata": {},
   "outputs": [
    {
     "name": "stdout",
     "output_type": "stream",
     "text": [
      "UnetModel(\n",
      "  (down_sample_layers): ModuleList(\n",
      "    (0): ConvBlock(in_chans=8, out_chans=8, drop_prob=0.0)\n",
      "    (1): ConvBlock(in_chans=8, out_chans=16, drop_prob=0.0)\n",
      "    (2): ConvBlock(in_chans=16, out_chans=32, drop_prob=0.0)\n",
      "    (3): ConvBlock(in_chans=32, out_chans=64, drop_prob=0.0)\n",
      "  )\n",
      "  (conv): ConvBlock(in_chans=64, out_chans=64, drop_prob=0.0)\n",
      "  (up_sample_layers): ModuleList(\n",
      "    (0): ConvBlock(in_chans=128, out_chans=32, drop_prob=0.0)\n",
      "    (1): ConvBlock(in_chans=64, out_chans=16, drop_prob=0.0)\n",
      "    (2): ConvBlock(in_chans=32, out_chans=8, drop_prob=0.0)\n",
      "    (3): ConvBlock(in_chans=16, out_chans=8, drop_prob=0.0)\n",
      "  )\n",
      "  (conv2): Sequential(\n",
      "    (0): Conv2d(8, 4, kernel_size=(1, 1), stride=(1, 1))\n",
      "    (1): Conv2d(4, 8, kernel_size=(1, 1), stride=(1, 1))\n",
      "    (2): Conv2d(8, 8, kernel_size=(1, 1), stride=(1, 1))\n",
      "  )\n",
      ")\n",
      "RMSprop (\n",
      "Parameter Group 0\n",
      "    alpha: 0.99\n",
      "    centered: False\n",
      "    eps: 1e-08\n",
      "    lr: 0.001\n",
      "    momentum: 0\n",
      "    weight_decay: 0.0\n",
      ")\n",
      "Epoch = [   0/2000] TrainLoss = 0.4286 , Actual loss on HF:0.2231\n",
      "Epoch = [  10/2000] TrainLoss = 0.4267 , Actual loss on HF:0.2253\n",
      "Epoch = [  20/2000] TrainLoss = 0.4309 , Actual loss on HF:0.2245\n",
      "Epoch = [  30/2000] TrainLoss = 0.431 , Actual loss on HF:0.2212\n",
      "Epoch = [  40/2000] TrainLoss = 0.4266 , Actual loss on HF:0.2243\n",
      "Epoch = [  50/2000] TrainLoss = 0.4286 , Actual loss on HF:0.2211\n",
      "Epoch = [  60/2000] TrainLoss = 0.4284 , Actual loss on HF:0.2184\n",
      "Epoch = [  70/2000] TrainLoss = 0.4328 , Actual loss on HF:0.2213\n",
      "Epoch = [  80/2000] TrainLoss = 0.4275 , Actual loss on HF:0.2174\n",
      "Epoch = [  90/2000] TrainLoss = 0.4292 , Actual loss on HF:0.2163\n",
      "Epoch = [ 100/2000] TrainLoss = 0.4306 , Actual loss on HF:0.2151\n",
      "Epoch = [ 110/2000] TrainLoss = 0.4273 , Actual loss on HF:0.2135\n",
      "Epoch = [ 120/2000] TrainLoss = 0.4285 , Actual loss on HF:0.2084\n",
      "Epoch = [ 130/2000] TrainLoss = 0.4304 , Actual loss on HF:0.2087\n",
      "Epoch = [ 140/2000] TrainLoss = 0.4267 , Actual loss on HF:0.2077\n",
      "Epoch = [ 150/2000] TrainLoss = 0.4301 , Actual loss on HF:0.2121\n",
      "Epoch = [ 160/2000] TrainLoss = 0.4304 , Actual loss on HF:0.2115\n",
      "Epoch = [ 170/2000] TrainLoss = 0.4312 , Actual loss on HF:0.2176\n",
      "Epoch = [ 180/2000] TrainLoss = 0.4271 , Actual loss on HF:0.2186\n",
      "Epoch = [ 190/2000] TrainLoss = 0.4287 , Actual loss on HF:0.2149\n",
      "Epoch = [ 200/2000] TrainLoss = 0.4262 , Actual loss on HF:0.2188\n",
      "Epoch = [ 210/2000] TrainLoss = 0.4355 , Actual loss on HF:0.2162\n",
      "Epoch = [ 220/2000] TrainLoss = 0.4294 , Actual loss on HF:0.2153\n",
      "Epoch = [ 230/2000] TrainLoss = 0.4311 , Actual loss on HF:0.2181\n",
      "Epoch = [ 240/2000] TrainLoss = 0.4281 , Actual loss on HF:0.2196\n",
      "Epoch = [ 250/2000] TrainLoss = 0.425 , Actual loss on HF:0.216\n",
      "Epoch = [ 260/2000] TrainLoss = 0.4265 , Actual loss on HF:0.2197\n",
      "Epoch = [ 270/2000] TrainLoss = 0.4214 , Actual loss on HF:0.2229\n",
      "Epoch = [ 280/2000] TrainLoss = 0.4305 , Actual loss on HF:0.23\n",
      "Epoch = [ 290/2000] TrainLoss = 0.4249 , Actual loss on HF:0.2213\n",
      "Epoch = [ 300/2000] TrainLoss = 0.4262 , Actual loss on HF:0.2162\n",
      "Epoch = [ 310/2000] TrainLoss = 0.4321 , Actual loss on HF:0.2105\n",
      "Epoch = [ 320/2000] TrainLoss = 0.4296 , Actual loss on HF:0.2062\n",
      "Epoch = [ 330/2000] TrainLoss = 0.4301 , Actual loss on HF:0.2078\n",
      "Epoch = [ 340/2000] TrainLoss = 0.429 , Actual loss on HF:0.2097\n",
      "Epoch = [ 350/2000] TrainLoss = 0.4278 , Actual loss on HF:0.2113\n",
      "Epoch = [ 360/2000] TrainLoss = 0.4306 , Actual loss on HF:0.2092\n",
      "Epoch = [ 370/2000] TrainLoss = 0.4276 , Actual loss on HF:0.2076\n",
      "Epoch = [ 380/2000] TrainLoss = 0.4331 , Actual loss on HF:0.2082\n",
      "Epoch = [ 390/2000] TrainLoss = 0.43 , Actual loss on HF:0.2082\n",
      "Epoch = [ 400/2000] TrainLoss = 0.4267 , Actual loss on HF:0.2056\n",
      "Epoch = [ 410/2000] TrainLoss = 0.4298 , Actual loss on HF:0.2052\n",
      "Epoch = [ 420/2000] TrainLoss = 0.4295 , Actual loss on HF:0.2048\n",
      "Epoch = [ 430/2000] TrainLoss = 0.4326 , Actual loss on HF:0.2079\n",
      "Epoch = [ 440/2000] TrainLoss = 0.4249 , Actual loss on HF:0.2093\n",
      "Epoch = [ 450/2000] TrainLoss = 0.4291 , Actual loss on HF:0.2098\n",
      "Epoch = [ 460/2000] TrainLoss = 0.4301 , Actual loss on HF:0.2104\n",
      "Epoch = [ 470/2000] TrainLoss = 0.4266 , Actual loss on HF:0.2141\n",
      "Epoch = [ 480/2000] TrainLoss = 0.4282 , Actual loss on HF:0.2132\n",
      "Epoch = [ 490/2000] TrainLoss = 0.4303 , Actual loss on HF:0.2104\n",
      "Epoch = [ 500/2000] TrainLoss = 0.4283 , Actual loss on HF:0.2101\n",
      "Epoch = [ 510/2000] TrainLoss = 0.4253 , Actual loss on HF:0.211\n",
      "Epoch = [ 520/2000] TrainLoss = 0.4266 , Actual loss on HF:0.2096\n",
      "Epoch = [ 530/2000] TrainLoss = 0.4297 , Actual loss on HF:0.2089\n",
      "Epoch = [ 540/2000] TrainLoss = 0.4282 , Actual loss on HF:0.2109\n",
      "Epoch = [ 550/2000] TrainLoss = 0.4277 , Actual loss on HF:0.2117\n",
      "Epoch = [ 560/2000] TrainLoss = 0.4287 , Actual loss on HF:0.2086\n",
      "Epoch = [ 570/2000] TrainLoss = 0.4261 , Actual loss on HF:0.2087\n",
      "Epoch = [ 580/2000] TrainLoss = 0.4298 , Actual loss on HF:0.2096\n",
      "Epoch = [ 590/2000] TrainLoss = 0.4287 , Actual loss on HF:0.2117\n",
      "Epoch = [ 600/2000] TrainLoss = 0.43 , Actual loss on HF:0.2091\n",
      "Epoch = [ 610/2000] TrainLoss = 0.4262 , Actual loss on HF:0.2096\n",
      "Epoch = [ 620/2000] TrainLoss = 0.4268 , Actual loss on HF:0.2097\n",
      "Epoch = [ 630/2000] TrainLoss = 0.4282 , Actual loss on HF:0.211\n",
      "Epoch = [ 640/2000] TrainLoss = 0.4305 , Actual loss on HF:0.2132\n",
      "Epoch = [ 650/2000] TrainLoss = 0.4294 , Actual loss on HF:0.2087\n",
      "Epoch = [ 660/2000] TrainLoss = 0.4286 , Actual loss on HF:0.2092\n",
      "Epoch = [ 670/2000] TrainLoss = 0.427 , Actual loss on HF:0.2114\n",
      "Epoch = [ 680/2000] TrainLoss = 0.4275 , Actual loss on HF:0.2126\n",
      "Epoch = [ 690/2000] TrainLoss = 0.4285 , Actual loss on HF:0.2107\n",
      "Epoch = [ 700/2000] TrainLoss = 0.4268 , Actual loss on HF:0.2105\n",
      "Epoch = [ 710/2000] TrainLoss = 0.4247 , Actual loss on HF:0.2125\n",
      "Epoch = [ 720/2000] TrainLoss = 0.426 , Actual loss on HF:0.2133\n",
      "Epoch = [ 730/2000] TrainLoss = 0.4278 , Actual loss on HF:0.2117\n",
      "Epoch = [ 740/2000] TrainLoss = 0.4272 , Actual loss on HF:0.2109\n",
      "Epoch = [ 750/2000] TrainLoss = 0.428 , Actual loss on HF:0.2136\n",
      "Epoch = [ 760/2000] TrainLoss = 0.4307 , Actual loss on HF:0.2167\n",
      "Epoch = [ 770/2000] TrainLoss = 0.4292 , Actual loss on HF:0.2182\n",
      "Epoch = [ 780/2000] TrainLoss = 0.4303 , Actual loss on HF:0.2145\n",
      "Epoch = [ 790/2000] TrainLoss = 0.4289 , Actual loss on HF:0.2197\n",
      "Epoch = [ 800/2000] TrainLoss = 0.4278 , Actual loss on HF:0.2203\n",
      "Epoch = [ 810/2000] TrainLoss = 0.4247 , Actual loss on HF:0.2211\n",
      "Epoch = [ 820/2000] TrainLoss = 0.4284 , Actual loss on HF:0.217\n",
      "Epoch = [ 830/2000] TrainLoss = 0.4297 , Actual loss on HF:0.2221\n",
      "Epoch = [ 840/2000] TrainLoss = 0.4323 , Actual loss on HF:0.2229\n",
      "Epoch = [ 850/2000] TrainLoss = 0.4267 , Actual loss on HF:0.2201\n",
      "Epoch = [ 860/2000] TrainLoss = 0.4334 , Actual loss on HF:0.2248\n",
      "Epoch = [ 870/2000] TrainLoss = 0.4297 , Actual loss on HF:0.2278\n",
      "Epoch = [ 880/2000] TrainLoss = 0.4268 , Actual loss on HF:0.2246\n",
      "Epoch = [ 890/2000] TrainLoss = 0.4306 , Actual loss on HF:0.2255\n",
      "Epoch = [ 900/2000] TrainLoss = 0.4217 , Actual loss on HF:0.229\n",
      "Epoch = [ 910/2000] TrainLoss = 0.4252 , Actual loss on HF:0.2296\n",
      "Epoch = [ 920/2000] TrainLoss = 0.4274 , Actual loss on HF:0.2285\n",
      "Epoch = [ 930/2000] TrainLoss = 0.4302 , Actual loss on HF:0.2283\n",
      "Epoch = [ 940/2000] TrainLoss = 0.4238 , Actual loss on HF:0.2308\n",
      "Epoch = [ 950/2000] TrainLoss = 0.4302 , Actual loss on HF:0.2303\n",
      "Epoch = [ 960/2000] TrainLoss = 0.426 , Actual loss on HF:0.2312\n",
      "Epoch = [ 970/2000] TrainLoss = 0.4282 , Actual loss on HF:0.2304\n",
      "Epoch = [ 980/2000] TrainLoss = 0.4263 , Actual loss on HF:0.2353\n",
      "Epoch = [ 990/2000] TrainLoss = 0.427 , Actual loss on HF:0.2317\n",
      "Epoch = [1000/2000] TrainLoss = 0.4279 , Actual loss on HF:0.2331\n",
      "Epoch = [1010/2000] TrainLoss = 0.4244 , Actual loss on HF:0.2341\n",
      "Epoch = [1020/2000] TrainLoss = 0.4277 , Actual loss on HF:0.2357\n",
      "Epoch = [1030/2000] TrainLoss = 0.4296 , Actual loss on HF:0.2312\n",
      "Epoch = [1040/2000] TrainLoss = 0.4281 , Actual loss on HF:0.2303\n",
      "Epoch = [1050/2000] TrainLoss = 0.4272 , Actual loss on HF:0.2299\n",
      "Epoch = [1060/2000] TrainLoss = 0.4261 , Actual loss on HF:0.2318\n",
      "Epoch = [1070/2000] TrainLoss = 0.4229 , Actual loss on HF:0.2291\n",
      "Epoch = [1080/2000] TrainLoss = 0.43 , Actual loss on HF:0.231\n",
      "Epoch = [1090/2000] TrainLoss = 0.4299 , Actual loss on HF:0.2295\n",
      "Epoch = [1100/2000] TrainLoss = 0.4303 , Actual loss on HF:0.2335\n",
      "Epoch = [1110/2000] TrainLoss = 0.4276 , Actual loss on HF:0.2368\n",
      "Epoch = [1120/2000] TrainLoss = 0.4307 , Actual loss on HF:0.2341\n",
      "Epoch = [1130/2000] TrainLoss = 0.4301 , Actual loss on HF:0.2333\n",
      "Epoch = [1140/2000] TrainLoss = 0.4289 , Actual loss on HF:0.2343\n",
      "Epoch = [1150/2000] TrainLoss = 0.4248 , Actual loss on HF:0.2333\n",
      "Epoch = [1160/2000] TrainLoss = 0.4281 , Actual loss on HF:0.2301\n",
      "Epoch = [1170/2000] TrainLoss = 0.4287 , Actual loss on HF:0.2294\n",
      "Epoch = [1180/2000] TrainLoss = 0.4274 , Actual loss on HF:0.2258\n",
      "Epoch = [1190/2000] TrainLoss = 0.4282 , Actual loss on HF:0.2245\n",
      "Epoch = [1200/2000] TrainLoss = 0.4257 , Actual loss on HF:0.2244\n",
      "Epoch = [1210/2000] TrainLoss = 0.4287 , Actual loss on HF:0.2265\n",
      "Epoch = [1220/2000] TrainLoss = 0.4292 , Actual loss on HF:0.2253\n",
      "Epoch = [1230/2000] TrainLoss = 0.4269 , Actual loss on HF:0.2238\n",
      "Epoch = [1240/2000] TrainLoss = 0.427 , Actual loss on HF:0.2258\n",
      "Epoch = [1250/2000] TrainLoss = 0.423 , Actual loss on HF:0.2242\n",
      "Epoch = [1260/2000] TrainLoss = 0.4282 , Actual loss on HF:0.2268\n",
      "Epoch = [1270/2000] TrainLoss = 0.4274 , Actual loss on HF:0.2278\n",
      "Epoch = [1280/2000] TrainLoss = 0.4264 , Actual loss on HF:0.2257\n",
      "Epoch = [1290/2000] TrainLoss = 0.4296 , Actual loss on HF:0.2293\n",
      "Epoch = [1300/2000] TrainLoss = 0.429 , Actual loss on HF:0.2308\n",
      "Epoch = [1310/2000] TrainLoss = 0.4272 , Actual loss on HF:0.2334\n",
      "Epoch = [1320/2000] TrainLoss = 0.4265 , Actual loss on HF:0.232\n",
      "Epoch = [1330/2000] TrainLoss = 0.4283 , Actual loss on HF:0.2342\n",
      "Epoch = [1340/2000] TrainLoss = 0.4295 , Actual loss on HF:0.2306\n",
      "Epoch = [1350/2000] TrainLoss = 0.4261 , Actual loss on HF:0.2306\n",
      "Epoch = [1360/2000] TrainLoss = 0.4289 , Actual loss on HF:0.235\n",
      "Epoch = [1370/2000] TrainLoss = 0.4315 , Actual loss on HF:0.2343\n",
      "Epoch = [1380/2000] TrainLoss = 0.427 , Actual loss on HF:0.2399\n",
      "Epoch = [1390/2000] TrainLoss = 0.4294 , Actual loss on HF:0.2407\n",
      "Epoch = [1400/2000] TrainLoss = 0.4323 , Actual loss on HF:0.2404\n",
      "Epoch = [1410/2000] TrainLoss = 0.4318 , Actual loss on HF:0.2382\n",
      "Epoch = [1420/2000] TrainLoss = 0.4322 , Actual loss on HF:0.2369\n",
      "Epoch = [1430/2000] TrainLoss = 0.4305 , Actual loss on HF:0.2314\n",
      "Epoch = [1440/2000] TrainLoss = 0.4268 , Actual loss on HF:0.2313\n",
      "Epoch = [1450/2000] TrainLoss = 0.4254 , Actual loss on HF:0.2318\n",
      "Epoch = [1460/2000] TrainLoss = 0.4301 , Actual loss on HF:0.2307\n",
      "Epoch = [1470/2000] TrainLoss = 0.4276 , Actual loss on HF:0.2293\n",
      "Epoch = [1480/2000] TrainLoss = 0.4266 , Actual loss on HF:0.2301\n",
      "Epoch = [1490/2000] TrainLoss = 0.4289 , Actual loss on HF:0.2311\n",
      "Epoch = [1500/2000] TrainLoss = 0.4299 , Actual loss on HF:0.2373\n",
      "Epoch = [1510/2000] TrainLoss = 0.4328 , Actual loss on HF:0.2327\n",
      "Epoch = [1520/2000] TrainLoss = 0.4285 , Actual loss on HF:0.23\n",
      "Epoch = [1530/2000] TrainLoss = 0.4317 , Actual loss on HF:0.2275\n",
      "Epoch = [1540/2000] TrainLoss = 0.431 , Actual loss on HF:0.2253\n",
      "Epoch = [1550/2000] TrainLoss = 0.4279 , Actual loss on HF:0.2235\n",
      "Epoch = [1560/2000] TrainLoss = 0.4282 , Actual loss on HF:0.2214\n",
      "Epoch = [1570/2000] TrainLoss = 0.4288 , Actual loss on HF:0.2139\n",
      "Epoch = [1580/2000] TrainLoss = 0.4258 , Actual loss on HF:0.2166\n",
      "Epoch = [1590/2000] TrainLoss = 0.428 , Actual loss on HF:0.2191\n",
      "Epoch = [1600/2000] TrainLoss = 0.4307 , Actual loss on HF:0.2153\n",
      "Epoch = [1610/2000] TrainLoss = 0.4271 , Actual loss on HF:0.2147\n",
      "Epoch = [1620/2000] TrainLoss = 0.429 , Actual loss on HF:0.2142\n",
      "Epoch = [1630/2000] TrainLoss = 0.4297 , Actual loss on HF:0.2182\n",
      "Epoch = [1640/2000] TrainLoss = 0.4266 , Actual loss on HF:0.218\n",
      "Epoch = [1650/2000] TrainLoss = 0.4309 , Actual loss on HF:0.215\n",
      "Epoch = [1660/2000] TrainLoss = 0.4272 , Actual loss on HF:0.2131\n",
      "Epoch = [1670/2000] TrainLoss = 0.4254 , Actual loss on HF:0.2148\n",
      "Epoch = [1680/2000] TrainLoss = 0.4288 , Actual loss on HF:0.214\n",
      "Epoch = [1690/2000] TrainLoss = 0.4287 , Actual loss on HF:0.2158\n",
      "Epoch = [1700/2000] TrainLoss = 0.4311 , Actual loss on HF:0.2138\n",
      "Epoch = [1710/2000] TrainLoss = 0.4273 , Actual loss on HF:0.2109\n",
      "Epoch = [1720/2000] TrainLoss = 0.4294 , Actual loss on HF:0.208\n",
      "Epoch = [1730/2000] TrainLoss = 0.4268 , Actual loss on HF:0.2083\n",
      "Epoch = [1740/2000] TrainLoss = 0.4299 , Actual loss on HF:0.209\n",
      "Epoch = [1750/2000] TrainLoss = 0.4253 , Actual loss on HF:0.2088\n",
      "Epoch = [1760/2000] TrainLoss = 0.4258 , Actual loss on HF:0.2145\n",
      "Epoch = [1770/2000] TrainLoss = 0.4306 , Actual loss on HF:0.215\n",
      "Epoch = [1780/2000] TrainLoss = 0.4258 , Actual loss on HF:0.2133\n",
      "Epoch = [1790/2000] TrainLoss = 0.4275 , Actual loss on HF:0.21\n",
      "Epoch = [1800/2000] TrainLoss = 0.4258 , Actual loss on HF:0.2127\n",
      "Epoch = [1810/2000] TrainLoss = 0.4302 , Actual loss on HF:0.2119\n",
      "Epoch = [1820/2000] TrainLoss = 0.4291 , Actual loss on HF:0.208\n",
      "Epoch = [1830/2000] TrainLoss = 0.4247 , Actual loss on HF:0.2107\n",
      "Epoch = [1840/2000] TrainLoss = 0.4282 , Actual loss on HF:0.2065\n",
      "Epoch = [1850/2000] TrainLoss = 0.428 , Actual loss on HF:0.2043\n",
      "Epoch = [1860/2000] TrainLoss = 0.4282 , Actual loss on HF:0.2032\n",
      "Epoch = [1870/2000] TrainLoss = 0.4276 , Actual loss on HF:0.1983\n",
      "Epoch = [1880/2000] TrainLoss = 0.4313 , Actual loss on HF:0.195\n",
      "Epoch = [1890/2000] TrainLoss = 0.4282 , Actual loss on HF:0.1934\n",
      "Epoch = [1900/2000] TrainLoss = 0.4274 , Actual loss on HF:0.1938\n",
      "Epoch = [1910/2000] TrainLoss = 0.4282 , Actual loss on HF:0.1914\n",
      "Epoch = [1920/2000] TrainLoss = 0.4282 , Actual loss on HF:0.1894\n",
      "Epoch = [1930/2000] TrainLoss = 0.427 , Actual loss on HF:0.1886\n",
      "Epoch = [1940/2000] TrainLoss = 0.431 , Actual loss on HF:0.1886\n",
      "Epoch = [1950/2000] TrainLoss = 0.4284 , Actual loss on HF:0.1879\n",
      "Epoch = [1960/2000] TrainLoss = 0.4282 , Actual loss on HF:0.1885\n",
      "Epoch = [1970/2000] TrainLoss = 0.4286 , Actual loss on HF:0.1877\n",
      "Epoch = [1980/2000] TrainLoss = 0.4308 , Actual loss on HF:0.1905\n",
      "Epoch = [1990/2000] TrainLoss = 0.4291 , Actual loss on HF:0.1891\n"
     ]
    }
   ],
   "source": [
    "%run Unet_MRI_7T3.py --num-chans 8 --batch-size 1 --checkpoint checkpoint/best_model.pt  --challenge multicoil --data-path \\ --num_coil 8 --device cpu --lr 0.001 --num-epochs 2000 --report-interval 10"
   ]
  },
  {
   "cell_type": "code",
   "execution_count": 23,
   "metadata": {},
   "outputs": [
    {
     "name": "stdout",
     "output_type": "stream",
     "text": [
      "torch.Size([1, 8, 128, 128])\n"
     ]
    }
   ],
   "source": [
    "epoch_5000 = torch.load('test.pt')\n",
    "print(epoch_5000.shape)"
   ]
  },
  {
   "cell_type": "code",
   "execution_count": 24,
   "metadata": {},
   "outputs": [
    {
     "name": "stdout",
     "output_type": "stream",
     "text": [
      "torch.Size([8, 128, 128])\n",
      "torch.Size([128, 128, 8])\n"
     ]
    }
   ],
   "source": [
    "epoch_5000 = epoch_5000.squeeze(0)\n",
    "print(epoch_5000.shape)\n",
    "epoch_5000 = epoch_5000.permute(1,2,0)\n",
    "print(epoch_5000.shape)"
   ]
  },
  {
   "cell_type": "code",
   "execution_count": 25,
   "metadata": {},
   "outputs": [
    {
     "data": {
      "text/plain": [
       "Text(0.5, 1.0, 'Accquired @ 3T')"
      ]
     },
     "execution_count": 25,
     "metadata": {},
     "output_type": "execute_result"
    },
    {
     "data": {
      "image/png": "[encoded data removed]",
      "text/plain": [
       "<Figure size 1080x1080 with 1 Axes>"
      ]
     },
     "metadata": {
      "needs_background": "light"
     },
     "output_type": "display_data"
    }
   ],
   "source": [
    "epoch_5000 = epoch_5000.detach().numpy()\n",
    "\n",
    "plt.figure(figsize=(15, 15))\n",
    "\n",
    "# Accquired\n",
    "plt.subplot(121),\n",
    "plt.imshow(np.sqrt(np.sum(abs(epoch_5000),2)), cmap='gray')\n",
    "plt.title('Accquired @ 3T')\n"
   ]
  },
  {
   "cell_type": "code",
   "execution_count": null,
   "metadata": {},
   "outputs": [],
   "source": []
  }
 ],
 "metadata": {
  "kernelspec": {
   "display_name": "Python 3",
   "language": "python",
   "name": "python3"
  },
  "language_info": {
   "codemirror_mode": {
    "name": "ipython",
    "version": 3
   },
   "file_extension": ".py",
   "mimetype": "text/x-python",
   "name": "python",
   "nbconvert_exporter": "python",
   "pygments_lexer": "ipython3",
   "version": "3.7.3"
  }
 },
 "nbformat": 4,
 "nbformat_minor": 2
}
