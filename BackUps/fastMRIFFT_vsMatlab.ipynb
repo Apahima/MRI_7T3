{
 "cells": [
  {
   "cell_type": "markdown",
   "metadata": {},
   "source": [
    "$$\n",
    "\\newcommand{\\mat}[1]{\\boldsymbol {#1}}\n",
    "\\newcommand{\\mattr}[1]{\\boldsymbol {#1}^\\top}\n",
    "\\newcommand{\\matinv}[1]{\\boldsymbol {#1}^{-1}}\n",
    "\\newcommand{\\vec}[1]{\\boldsymbol {#1}}\n",
    "\\newcommand{\\vectr}[1]{\\boldsymbol {#1}^\\top}\n",
    "\\newcommand{\\rvar}[1]{\\mathrm {#1}}\n",
    "\\newcommand{\\rvec}[1]{\\boldsymbol{\\mathrm{#1}}}\n",
    "\\newcommand{\\diag}{\\mathop{\\mathrm {diag}}}\n",
    "\\newcommand{\\set}[1]{\\mathbb {#1}}\n",
    "\\newcommand{\\norm}[1]{\\left\\lVert#1\\right\\rVert}\n",
    "\\newcommand{\\pderiv}[2]{\\frac{\\partial #1}{\\partial #2}}\n",
    "\\newcommand{\\bb}[1]{\\boldsymbol{#1}}\n",
    "$$"
   ]
  },
  {
   "cell_type": "code",
   "execution_count": 87,
   "metadata": {},
   "outputs": [
    {
     "name": "stdout",
     "output_type": "stream",
     "text": [
      "The autoreload extension is already loaded. To reload it, use:\n",
      "  %reload_ext autoreload\n",
      "Using device: cpu\n"
     ]
    }
   ],
   "source": [
    "from os.path import dirname, join as pjoin\n",
    "import scipy.io as sio\n",
    "\n",
    "import unittest\n",
    "import numpy as np\n",
    "import torch\n",
    "import torch.nn as nn\n",
    "import torch.nn.functional as F\n",
    "import matplotlib.pyplot as plt\n",
    "import scipy.fftpack as scifft\n",
    "\n",
    "from fastMRI.data import transforms as Ttorch\n",
    "\n",
    "%load_ext autoreload\n",
    "%autoreload 2\n",
    "\n",
    "test = unittest.TestCase()\n",
    "plt.rcParams.update({'font.size': 12})\n",
    "device = torch.device('cuda' if torch.cuda.is_available() else 'cpu')\n",
    "print('Using device:', device)"
   ]
  },
  {
   "cell_type": "code",
   "execution_count": 9,
   "metadata": {},
   "outputs": [
    {
     "name": "stdout",
     "output_type": "stream",
     "text": [
      "C:\\Users\\apahima\\AppData\\Local\\Continuum\\anaconda3\\lib\\site-packages\\scipy\\io\\data\n",
      "C:\\Users\\apahima\\AppData\\Local\\Continuum\\anaconda3\\lib\\site-packages\\scipy\\io\\data\\check_fft.mat\n"
     ]
    }
   ],
   "source": [
    "data_dir = pjoin(dirname(sio.__file__), 'data')\n",
    "print(data_dir)\n",
    "mat_fname = pjoin(data_dir, 'check_fft.mat')\n",
    "print(mat_fname)\n",
    "mat_contents = sio.loadmat(mat_fname)"
   ]
  },
  {
   "cell_type": "code",
   "execution_count": 10,
   "metadata": {},
   "outputs": [
    {
     "name": "stdout",
     "output_type": "stream",
     "text": [
      "dict_keys(['__header__', '__version__', '__globals__', 'checkfft'])\n"
     ]
    }
   ],
   "source": [
    "print(mat_contents.keys())"
   ]
  },
  {
   "cell_type": "code",
   "execution_count": 166,
   "metadata": {},
   "outputs": [
    {
     "name": "stdout",
     "output_type": "stream",
     "text": [
      "tensor([[-1.1590e-03,  0.0000e+00,  9.8028e-04,  6.2628e-04,  4.7608e-04],\n",
      "        [-9.8460e-04,  1.1812e-04,  4.5878e-04, -2.0897e-04,  7.7709e-04],\n",
      "        [-4.3921e-04, -4.1387e-04, -9.0951e-04, -9.9373e-05,  9.9443e-04],\n",
      "        [ 1.0274e-03,  1.7006e-03,  1.6781e-03,  1.7775e-03,  1.2988e-03],\n",
      "        [ 1.3584e-03,  1.4071e-03,  1.8340e-03,  1.4109e-03,  1.2076e-03]],\n",
      "       dtype=torch.float64)\n"
     ]
    }
   ],
   "source": [
    "check_fft_tensor = Ttorch.to_tensor(mat_contents['checkfft'])\n",
    "\n",
    "print(check_fft_tensor[:,:,0])"
   ]
  },
  {
   "cell_type": "code",
   "execution_count": 169,
   "metadata": {},
   "outputs": [
    {
     "name": "stdout",
     "output_type": "stream",
     "text": [
      "tensor([[ 1.2866e-05, -3.3567e-05,  8.0284e-06, -5.3144e-07,  5.0853e-05],\n",
      "        [ 2.9108e-05,  4.6276e-05, -1.1123e-04,  1.3407e-04, -2.2491e-05],\n",
      "        [ 9.6077e-05, -2.2897e-05,  1.1187e-05, -3.9913e-04,  2.2122e-05],\n",
      "        [-2.2319e-04,  1.2086e-04, -3.2155e-04, -4.5049e-04, -3.5900e-05],\n",
      "        [-1.6459e-04,  1.1105e-04, -2.8516e-05,  4.5394e-04,  5.2527e-08]],\n",
      "       dtype=torch.float64)\n"
     ]
    }
   ],
   "source": [
    "a = Ttorch.ifft2(check_fft_tensor)\n",
    "\n",
    "print(a[:,:,1])"
   ]
  },
  {
   "cell_type": "code",
   "execution_count": 168,
   "metadata": {},
   "outputs": [
    {
     "name": "stdout",
     "output_type": "stream",
     "text": [
      "b_ifftshift_ifft2_ifftshift\n",
      "[[-2.47216813e-05+1.28663389e-05j -2.90198280e-05-3.35667087e-05j\n",
      "  -2.95610045e-06+8.02840640e-06j -4.77130354e-05-5.31437743e-07j\n",
      "  -1.45292612e-04+5.08526227e-05j]\n",
      " [-8.62641410e-06+2.91082802e-05j  3.42320818e-05+4.62760036e-05j\n",
      "  -1.14757219e-04-1.11229137e-04j -3.15073166e-04+1.34068506e-04j\n",
      "  -5.35261405e-05-2.24905477e-05j]\n",
      " [ 1.19853759e-04+9.60767627e-05j -2.05750985e-05-2.28971844e-05j\n",
      "   5.96008935e-05+1.11866209e-05j -1.80548528e-04-3.99130167e-04j\n",
      "  -2.18450191e-04+2.21221387e-05j]\n",
      " [-1.17363295e-04-2.23185170e-04j  1.44423773e-04+1.20859465e-04j\n",
      "  -1.59554625e-04-3.21545447e-04j  5.96677979e-04-4.50493318e-04j\n",
      "   3.44145453e-04-3.59003732e-05j]\n",
      " [-2.31995933e-04-1.64592724e-04j  4.70683635e-06+1.11050511e-04j\n",
      "  -1.33649912e-04-2.85158050e-05j -2.26849530e-04+4.53938450e-04j\n",
      "  -1.82474395e-04+5.25274802e-08j]]\n",
      "b_ifftshift_ifft2_ifftshift with SciPy\n",
      "[[-2.47216813e-05+1.28663389e-05j -2.90198280e-05-3.35667087e-05j\n",
      "  -2.95610045e-06+8.02840640e-06j -4.77130354e-05-5.31437743e-07j\n",
      "  -1.45292612e-04+5.08526227e-05j]\n",
      " [-8.62641410e-06+2.91082802e-05j  3.42320818e-05+4.62760036e-05j\n",
      "  -1.14757219e-04-1.11229137e-04j -3.15073166e-04+1.34068506e-04j\n",
      "  -5.35261405e-05-2.24905477e-05j]\n",
      " [ 1.19853759e-04+9.60767627e-05j -2.05750985e-05-2.28971844e-05j\n",
      "   5.96008935e-05+1.11866209e-05j -1.80548528e-04-3.99130167e-04j\n",
      "  -2.18450191e-04+2.21221387e-05j]\n",
      " [-1.17363295e-04-2.23185170e-04j  1.44423773e-04+1.20859465e-04j\n",
      "  -1.59554625e-04-3.21545447e-04j  5.96677979e-04-4.50493318e-04j\n",
      "   3.44145453e-04-3.59003732e-05j]\n",
      " [-2.31995933e-04-1.64592724e-04j  4.70683635e-06+1.11050511e-04j\n",
      "  -1.33649912e-04-2.85158050e-05j -2.26849530e-04+4.53938450e-04j\n",
      "  -1.82474395e-04+5.25274802e-08j]]\n"
     ]
    }
   ],
   "source": [
    "b_ifftshift_ifft2_ifftshift = np.fft.ifftshift(np.fft.ifft2(np.fft.ifftshift(mat_contents['checkfft'])))\n",
    "b_ifftshift_ifft2_ifftshift_sci = scifft.ifftshift(scifft.ifft2(scifft.ifftshift(mat_contents['checkfft'])))\n",
    "\n",
    "\n",
    "print('b_ifftshift_ifft2_ifftshift')\n",
    "print(b_ifftshift_ifft2_ifftshift[:,:])\n",
    "print('b_ifftshift_ifft2_ifftshift with SciPy')\n",
    "print(b_ifftshift_ifft2_ifftshift_sci[:,:])"
   ]
  },
  {
   "cell_type": "code",
   "execution_count": 89,
   "metadata": {},
   "outputs": [
    {
     "name": "stdout",
     "output_type": "stream",
     "text": [
      "b_ifftshift\n",
      "[[-9.09506928e-04-7.17591386e-04j -9.93725425e-05-2.29483908e-04j\n",
      "   9.94431122e-04-3.58467961e-04j -4.39214241e-04+5.08475161e-04j\n",
      "  -4.13868809e-04-5.13671740e-04j]\n",
      " [ 1.67810949e-03-5.95581390e-04j  1.77746274e-03-9.62760514e-04j\n",
      "   1.29884857e-03-1.29846889e-03j  1.02742749e-03+3.78005518e-04j\n",
      "   1.70058103e-03-7.94724010e-04j]\n",
      " [ 1.83397742e-03-4.29899933e-04j  1.41093285e-03-7.39829392e-04j\n",
      "   1.20758205e-03-8.79423542e-04j  1.35838303e-03+9.86356862e-04j\n",
      "   1.40710534e-03+2.02399577e-04j]\n",
      " [ 9.80283044e-04-1.44885137e-03j  6.26279679e-04-1.42424421e-03j\n",
      "   4.76082270e-04-7.14220728e-04j -1.15899738e-03-8.79765285e-05j\n",
      "   0.00000000e+00+0.00000000e+00j]\n",
      " [ 4.58783409e-04-1.35940014e-03j -2.08965012e-04-6.60379872e-04j\n",
      "   7.77090307e-04-4.39297534e-04j -9.84603130e-04-2.43219263e-05j\n",
      "   1.18117690e-04+3.41024908e-04j]]\n",
      "b_ifftshift with SciPy fft\n",
      "[[-9.09506928e-04-7.17591386e-04j -9.93725425e-05-2.29483908e-04j\n",
      "   9.94431122e-04-3.58467961e-04j -4.39214241e-04+5.08475161e-04j\n",
      "  -4.13868809e-04-5.13671740e-04j]\n",
      " [ 1.67810949e-03-5.95581390e-04j  1.77746274e-03-9.62760514e-04j\n",
      "   1.29884857e-03-1.29846889e-03j  1.02742749e-03+3.78005518e-04j\n",
      "   1.70058103e-03-7.94724010e-04j]\n",
      " [ 1.83397742e-03-4.29899933e-04j  1.41093285e-03-7.39829392e-04j\n",
      "   1.20758205e-03-8.79423542e-04j  1.35838303e-03+9.86356862e-04j\n",
      "   1.40710534e-03+2.02399577e-04j]\n",
      " [ 9.80283044e-04-1.44885137e-03j  6.26279679e-04-1.42424421e-03j\n",
      "   4.76082270e-04-7.14220728e-04j -1.15899738e-03-8.79765285e-05j\n",
      "   0.00000000e+00+0.00000000e+00j]\n",
      " [ 4.58783409e-04-1.35940014e-03j -2.08965012e-04-6.60379872e-04j\n",
      "   7.77090307e-04-4.39297534e-04j -9.84603130e-04-2.43219263e-05j\n",
      "   1.18117690e-04+3.41024908e-04j]]\n"
     ]
    }
   ],
   "source": [
    "b_ifftshift = (np.fft.ifftshift(mat_contents['checkfft']))\n",
    "b_ifftshift_sci = (scifft.ifftshift(mat_contents['checkfft']))\n",
    "\n",
    "print('b_ifftshift')\n",
    "print(b_ifftshift[:,:])\n",
    "print('b_ifftshift with SciPy fft')\n",
    "print(b_ifftshift_sci[:,:])\n"
   ]
  },
  {
   "cell_type": "code",
   "execution_count": 90,
   "metadata": {},
   "outputs": [
    {
     "name": "stdout",
     "output_type": "stream",
     "text": [
      "b_ifft2_ifftshift\n",
      "[[ 5.96677979e-04-4.50493318e-04j  3.44145453e-04-3.59003732e-05j\n",
      "  -1.17363295e-04-2.23185170e-04j  1.44423773e-04+1.20859465e-04j\n",
      "  -1.59554625e-04-3.21545447e-04j]\n",
      " [-2.26849530e-04+4.53938450e-04j -1.82474395e-04+5.25274802e-08j\n",
      "  -2.31995933e-04-1.64592724e-04j  4.70683635e-06+1.11050511e-04j\n",
      "  -1.33649912e-04-2.85158050e-05j]\n",
      " [-4.77130354e-05-5.31437743e-07j -1.45292612e-04+5.08526227e-05j\n",
      "  -2.47216813e-05+1.28663389e-05j -2.90198280e-05-3.35667087e-05j\n",
      "  -2.95610045e-06+8.02840640e-06j]\n",
      " [-3.15073166e-04+1.34068506e-04j -5.35261405e-05-2.24905477e-05j\n",
      "  -8.62641410e-06+2.91082802e-05j  3.42320818e-05+4.62760036e-05j\n",
      "  -1.14757219e-04-1.11229137e-04j]\n",
      " [-1.80548528e-04-3.99130167e-04j -2.18450191e-04+2.21221387e-05j\n",
      "   1.19853759e-04+9.60767627e-05j -2.05750985e-05-2.28971844e-05j\n",
      "   5.96008935e-05+1.11866209e-05j]]\n",
      "b_ifft2_ifftshift with Scipy\n",
      "[[ 5.96677979e-04-4.50493318e-04j  3.44145453e-04-3.59003732e-05j\n",
      "  -1.17363295e-04-2.23185170e-04j  1.44423773e-04+1.20859465e-04j\n",
      "  -1.59554625e-04-3.21545447e-04j]\n",
      " [-2.26849530e-04+4.53938450e-04j -1.82474395e-04+5.25274802e-08j\n",
      "  -2.31995933e-04-1.64592724e-04j  4.70683635e-06+1.11050511e-04j\n",
      "  -1.33649912e-04-2.85158050e-05j]\n",
      " [-4.77130354e-05-5.31437743e-07j -1.45292612e-04+5.08526227e-05j\n",
      "  -2.47216813e-05+1.28663389e-05j -2.90198280e-05-3.35667087e-05j\n",
      "  -2.95610045e-06+8.02840640e-06j]\n",
      " [-3.15073166e-04+1.34068506e-04j -5.35261405e-05-2.24905477e-05j\n",
      "  -8.62641410e-06+2.91082802e-05j  3.42320818e-05+4.62760036e-05j\n",
      "  -1.14757219e-04-1.11229137e-04j]\n",
      " [-1.80548528e-04-3.99130167e-04j -2.18450191e-04+2.21221387e-05j\n",
      "   1.19853759e-04+9.60767627e-05j -2.05750985e-05-2.28971844e-05j\n",
      "   5.96008935e-05+1.11866209e-05j]]\n"
     ]
    }
   ],
   "source": [
    "b_ifft2_ifftshift = (np.fft.ifft2(np.fft.ifftshift(mat_contents['checkfft'])))\n",
    "b_ifft2_ifftshift_sci = (scifft.ifft2(scifft.ifftshift(mat_contents['checkfft'])))\n",
    "\n",
    "print('b_ifft2_ifftshift')\n",
    "print(b_ifft2_ifftshift[:,:])\n",
    "print('b_ifft2_ifftshift with Scipy')\n",
    "print(b_ifft2_ifftshift_sci[:,:])"
   ]
  },
  {
   "cell_type": "markdown",
   "metadata": {},
   "source": [
    "### Torch fft2"
   ]
  },
  {
   "cell_type": "code",
   "execution_count": 55,
   "metadata": {},
   "outputs": [
    {
     "name": "stdout",
     "output_type": "stream",
     "text": [
      "[[-9.09506928e-04-7.17591386e-04j -9.93725425e-05-2.29483908e-04j\n",
      "   9.94431122e-04-3.58467961e-04j -4.39214241e-04+5.08475161e-04j\n",
      "  -4.13868809e-04-5.13671740e-04j]\n",
      " [ 1.67810949e-03-5.95581390e-04j  1.77746274e-03-9.62760514e-04j\n",
      "   1.29884857e-03-1.29846889e-03j  1.02742749e-03+3.78005518e-04j\n",
      "   1.70058103e-03-7.94724010e-04j]\n",
      " [ 1.83397742e-03-4.29899933e-04j  1.41093285e-03-7.39829392e-04j\n",
      "   1.20758205e-03-8.79423542e-04j  1.35838303e-03+9.86356862e-04j\n",
      "   1.40710534e-03+2.02399577e-04j]\n",
      " [ 9.80283044e-04-1.44885137e-03j  6.26279679e-04-1.42424421e-03j\n",
      "   4.76082270e-04-7.14220728e-04j -1.15899738e-03-8.79765285e-05j\n",
      "   0.00000000e+00+0.00000000e+00j]\n",
      " [ 4.58783409e-04-1.35940014e-03j -2.08965012e-04-6.60379872e-04j\n",
      "   7.77090307e-04-4.39297534e-04j -9.84603130e-04-2.43219263e-05j\n",
      "   1.18117690e-04+3.41024908e-04j]]\n"
     ]
    }
   ],
   "source": [
    "a_ifftshift = (Ttorch.ifftshift(check_fft_tensor))\n",
    "\n",
    "print(a_ifftshift[:,:,1].numpy()+1j*a_ifftshift[:,:,0].numpy())"
   ]
  },
  {
   "cell_type": "code",
   "execution_count": 60,
   "metadata": {},
   "outputs": [
    {
     "name": "stdout",
     "output_type": "stream",
     "text": [
      "torch.Size([5, 5, 2])\n",
      "torch.Size([5, 5, 2])\n",
      "[[ 6.21880804e-05-1.24700633e-04j  1.73291600e-05+7.69479049e-04j\n",
      "  -7.11935574e-05-2.27710083e-04j  3.55525719e-05-2.37878248e-05j\n",
      "  -1.45099140e-04-1.67833543e-04j]\n",
      " [-1.14113834e-03+8.48896476e-04j -2.82188229e-04-8.67636155e-04j\n",
      "   2.25171726e-03-1.16952556e-03j -6.68249560e-04-1.42579025e-04j\n",
      "  -3.45408816e-04-4.35375707e-04j]\n",
      " [ 8.79972289e-04-9.02935685e-04j -1.49760615e-03-8.66198050e-04j\n",
      "   2.98338990e-03-2.25246659e-03j  1.59041037e-03+8.31759379e-04j\n",
      "   7.97867910e-04-5.00037707e-04j]\n",
      " [-2.02456120e-04-7.40880030e-04j -1.09225096e-03+1.10610694e-04j\n",
      "   1.90334827e-03+1.08389663e-03j  1.45283989e-04-2.66134811e-04j\n",
      "   7.70923064e-05-1.33218503e-04j]\n",
      " [-4.31320705e-05+1.45541401e-04j  2.82615848e-04-6.63332035e-05j\n",
      "   1.50718819e-04+1.70540917e-03j  3.51616325e-04-7.17561474e-04j\n",
      "  -2.46991727e-06-2.87795931e-04j]]\n"
     ]
    }
   ],
   "source": [
    "a_ifft2_ifftshift = Ttorch.ifft2(Ttorch.ifftshift(check_fft_tensor))\n",
    "\n",
    "print(a_ifft2_ifftshift[:,:,1].numpy()+1j*a_ifft2_ifftshift[:,:,0].numpy())"
   ]
  },
  {
   "cell_type": "code",
   "execution_count": 160,
   "metadata": {},
   "outputs": [
    {
     "name": "stdout",
     "output_type": "stream",
     "text": [
      "tensor([[[4.1090, 2.6421],\n",
      "         [1.6499, 2.2569],\n",
      "         [3.6257, 2.6071]],\n",
      "\n",
      "        [[2.7327, 2.0027],\n",
      "         [1.5544, 1.9030],\n",
      "         [1.9853, 1.8714]],\n",
      "\n",
      "        [[2.9477, 3.2878],\n",
      "         [1.9358, 2.7527],\n",
      "         [2.0820, 0.8508]]])\n",
      "torch.Size([3, 3, 2])\n",
      "torch.Size([3, 3, 2])\n",
      "tensor([[4.1090, 1.6499, 3.6257],\n",
      "        [2.7327, 1.5544, 1.9853],\n",
      "        [2.9477, 1.9358, 2.0820]])\n"
     ]
    }
   ],
   "source": [
    "x = torch.tensor([[[4.1090, 2.6421],\n",
    "         [1.6499, 2.2569],\n",
    "         [3.6257, 2.6071]],\n",
    "\n",
    "        [[2.7327, 2.0027],\n",
    "         [1.5544, 1.9030],\n",
    "         [1.9853, 1.8714]],\n",
    "\n",
    "        [[2.9477, 3.2878],\n",
    "         [1.9358, 2.7527],\n",
    "         [2.0820, 0.8508]]])\n",
    "print(x)\n",
    "print(x.shape)\n",
    "# x = x.permute(2,0,1)\n",
    "print(x.shape)\n",
    "print(x[:,:,0])"
   ]
  },
  {
   "cell_type": "code",
   "execution_count": 165,
   "metadata": {},
   "outputs": [
    {
     "name": "stdout",
     "output_type": "stream",
     "text": [
      "tensor([[[ 2.5136,  2.2416],\n",
      "         [ 0.2224, -0.0444],\n",
      "         [ 0.5271,  0.4469]],\n",
      "\n",
      "        [[ 0.4145,  0.0635],\n",
      "         [ 0.3401, -0.0698],\n",
      "         [ 0.0393, -0.0568]],\n",
      "\n",
      "        [[ 0.2001,  0.1969],\n",
      "         [ 0.0289, -0.3862],\n",
      "         [-0.1771,  0.2503]]])\n",
      "Convert to common view\n",
      "[[ 2.2416112 +2.513611j   -0.04435847+0.22240804j  0.4469474 +0.5271143j ]\n",
      " [ 0.0635176 +0.4145084j  -0.06981372+0.34014925j -0.05681898+0.03925212j]\n",
      " [ 0.19690475+0.20008045j -0.3861588 +0.02893681j  0.25026923-0.17706035j]]\n"
     ]
    }
   ],
   "source": [
    "test =  torch.ifft(x,2)\n",
    "print(test)\n",
    "print('Convert to common view')\n",
    "print(test[:,:,1].numpy() + 1j*test[:,:,0].numpy())"
   ]
  },
  {
   "cell_type": "code",
   "execution_count": 163,
   "metadata": {},
   "outputs": [
    {
     "name": "stdout",
     "output_type": "stream",
     "text": [
      "[[ 2.2416112 +2.513611j    0.4469474 +0.5271143j  -0.04435847+0.22240804j]\n",
      " [ 0.19690475+0.20008045j  0.25026923-0.17706035j -0.3861588 +0.02893681j]\n",
      " [ 0.0635176 +0.4145084j  -0.05681898+0.03925212j -0.06981372+0.34014925j]]\n"
     ]
    }
   ],
   "source": [
    "test_np = np.fft.ifft2(x[:,:,1].numpy() + 1j*x[:,:,0].numpy())\n",
    "print(test_np)"
   ]
  },
  {
   "cell_type": "code",
   "execution_count": null,
   "metadata": {},
   "outputs": [],
   "source": []
  }
 ],
 "metadata": {
  "kernelspec": {
   "display_name": "Python 3",
   "language": "python",
   "name": "python3"
  },
  "language_info": {
   "codemirror_mode": {
    "name": "ipython",
    "version": 3
   },
   "file_extension": ".py",
   "mimetype": "text/x-python",
   "name": "python",
   "nbconvert_exporter": "python",
   "pygments_lexer": "ipython3",
   "version": "3.7.3"
  }
 },
 "nbformat": 4,
 "nbformat_minor": 2
}
