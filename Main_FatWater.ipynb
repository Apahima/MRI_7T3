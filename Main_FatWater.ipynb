{
 "cells": [
  {
   "cell_type": "markdown",
   "metadata": {
    "pycharm": {
     "metadata": false
    }
   },
   "source": [
    "$$\n",
    "\\newcommand{\\mat}[1]{\\boldsymbol {#1}}\n",
    "\\newcommand{\\mattr}[1]{\\boldsymbol {#1}^\\top}\n",
    "\\newcommand{\\matinv}[1]{\\boldsymbol {#1}^{-1}}\n",
    "\\newcommand{\\vec}[1]{\\boldsymbol {#1}}\n",
    "\\newcommand{\\vectr}[1]{\\boldsymbol {#1}^\\top}\n",
    "\\newcommand{\\rvar}[1]{\\mathrm {#1}}\n",
    "\\newcommand{\\rvec}[1]{\\boldsymbol{\\mathrm{#1}}}\n",
    "\\newcommand{\\diag}{\\mathop{\\mathrm {diag}}}\n",
    "\\newcommand{\\set}[1]{\\mathbb {#1}}\n",
    "\\newcommand{\\norm}[1]{\\left\\lVert#1\\right\\rVert}\n",
    "\\newcommand{\\pderiv}[2]{\\frac{\\partial #1}{\\partial #2}}\n",
    "\\newcommand{\\bb}[1]{\\boldsymbol{#1}}\n",
    "$$\n"
   ]
  },
  {
   "cell_type": "markdown",
   "metadata": {
    "pycharm": {}
   },
   "source": [
    "### <font color=green size=20> MRI Simulator"
   ]
  },
  {
   "cell_type": "code",
   "execution_count": 1,
   "metadata": {
    "pycharm": {}
   },
   "outputs": [
    {
     "name": "stdout",
     "output_type": "stream",
     "text": [
      "Using device: cpu\n"
     ]
    }
   ],
   "source": [
    "from os.path import dirname, join as pjoin\n",
    "import scipy.io as sio\n",
    "\n",
    "import unittest\n",
    "import numpy as np\n",
    "import torch\n",
    "import torch.nn as nn\n",
    "import torch.nn.functional as F\n",
    "import matplotlib.pyplot as plt\n",
    "\n",
    "from fastMRI.data import transforms as Ttorch\n",
    "\n",
    "%load_ext autoreload\n",
    "%autoreload 2\n",
    "\n",
    "test = unittest.TestCase()\n",
    "plt.rcParams.update({'font.size': 12})\n",
    "device = torch.device('cuda' if torch.cuda.is_available() else 'cpu')\n",
    "print('Using device:', device)"
   ]
  },
  {
   "cell_type": "code",
   "execution_count": 2,
   "metadata": {
    "pycharm": {}
   },
   "outputs": [],
   "source": [
    "data_dir = pjoin(dirname(sio.__file__), 'data')\n",
    "mat_fname = pjoin(data_dir, 'fat-water@3T-3echo')"
   ]
  },
  {
   "cell_type": "code",
   "execution_count": 3,
   "metadata": {
    "pycharm": {}
   },
   "outputs": [
    {
     "name": "stdout",
     "output_type": "stream",
     "text": [
      "C:\\Users\\apahima\\AppData\\Local\\Continuum\\anaconda3\\lib\\site-packages\\scipy\\io\\data\n",
      "C:\\Users\\apahima\\AppData\\Local\\Continuum\\anaconda3\\lib\\site-packages\\scipy\\io\\data\\fat-water@3T-3echo\n"
     ]
    }
   ],
   "source": [
    "print(data_dir)\n",
    "print(mat_fname)"
   ]
  },
  {
   "cell_type": "markdown",
   "metadata": {
    "pycharm": {}
   },
   "source": [
    "### Loading matrix and set B0 transfer field"
   ]
  },
  {
   "cell_type": "code",
   "execution_count": 4,
   "metadata": {
    "pycharm": {}
   },
   "outputs": [],
   "source": [
    "mat_contents = sio.loadmat(mat_fname)\n",
    "B0_low = 0.3;"
   ]
  },
  {
   "cell_type": "code",
   "execution_count": 5,
   "metadata": {
    "pycharm": {}
   },
   "outputs": [
    {
     "data": {
      "text/plain": [
       "['TE', '__globals__', '__header__', '__version__', 'k_high', 'n_cov']"
      ]
     },
     "execution_count": 5,
     "metadata": {},
     "output_type": "execute_result"
    }
   ],
   "source": [
    "sorted(mat_contents.keys())"
   ]
  },
  {
   "cell_type": "markdown",
   "metadata": {
    "pycharm": {}
   },
   "source": [
    "## Check for loading correctly"
   ]
  },
  {
   "cell_type": "code",
   "execution_count": 6,
   "metadata": {
    "pycharm": {}
   },
   "outputs": [
    {
     "name": "stdout",
     "output_type": "stream",
     "text": [
      "N_cov shape (8, 8)\n",
      "k_rad shape (168, 168, 1, 3, 8)\n",
      "T shape (1, 3)\n"
     ]
    }
   ],
   "source": [
    "print('N_cov shape',(mat_contents['n_cov'].shape))\n",
    "print('k_rad shape',(mat_contents['k_high'].shape))\n",
    "print('T shape',(mat_contents['TE'].shape))"
   ]
  },
  {
   "cell_type": "code",
   "execution_count": 7,
   "metadata": {
    "pycharm": {}
   },
   "outputs": [],
   "source": [
    "# mat_contents['TE'] = mat_contents['TE'].squeeze(0)\n",
    "# print('TE Shape:',mat_contents['TE'].shape)\n",
    "\n",
    "# print((mat_contents['N_cov'][0]))"
   ]
  },
  {
   "cell_type": "markdown",
   "metadata": {
    "pycharm": {}
   },
   "source": [
    "### Create cpmlex tensors for later"
   ]
  },
  {
   "cell_type": "code",
   "execution_count": 8,
   "metadata": {
    "pycharm": {}
   },
   "outputs": [
    {
     "name": "stdout",
     "output_type": "stream",
     "text": [
      "k_high Tensor shape: torch.Size([168, 168, 1, 3, 8, 2])\n"
     ]
    }
   ],
   "source": [
    "k_high_T = Ttorch.to_tensor(mat_contents['k_high'])\n",
    "\n",
    "print('k_high Tensor shape:',k_high_T.shape)"
   ]
  },
  {
   "cell_type": "code",
   "execution_count": 9,
   "metadata": {
    "pycharm": {}
   },
   "outputs": [],
   "source": [
    "inParam = {'B_high' : 3, 'B_low' : B0_low ,'tissue' : 'liver' ,'sequence' : 'GradientEcho','theta' : 3,'BW_high' : 62.5,\n",
    "           'BW_low' : 62.5 ,'TR_high' : 9.0 ,'TR_low' : 4.6, 'n_cov' : mat_contents['n_cov']}\n",
    "\n",
    "# inParam['TE_high'] = 2.6\n",
    "# inParam['TE_low'] = 2.6\n",
    "inParam['BW_low'] = inParam['BW_high'] * B0_low/3\n",
    "inParam['TR_low'] = mat_contents['TE'][0][-1] * 1000 * 3/B0_low + 1/inParam['BW_low']/2 + 5.608"
   ]
  },
  {
   "cell_type": "code",
   "execution_count": 10,
   "metadata": {
    "pycharm": {}
   },
   "outputs": [
    {
     "name": "stdout",
     "output_type": "stream",
     "text": [
      "k_low Tensor with two channels size: torch.Size([168, 168, 1, 3, 8, 2])\n"
     ]
    }
   ],
   "source": [
    "k_low = torch.zeros_like(k_high_T)\n",
    "print('k_low Tensor with two channels size:', k_low.shape)"
   ]
  },
  {
   "cell_type": "markdown",
   "metadata": {},
   "source": [
    "## Import the main functions"
   ]
  },
  {
   "cell_type": "code",
   "execution_count": 11,
   "metadata": {
    "pycharm": {}
   },
   "outputs": [],
   "source": [
    "import Function.lowfieldgen as Klow\n",
    "import Function.gridkb \n",
    "import Function.elementwise_mul_abs_complex\n",
    "\n",
    "manipol = Klow.lowfieldgen()  #This is a clsass so it must be loaded with ()\n",
    "gridkb = Function.gridkb.gridkb #This is function so it not neccessery to load it with ()\n",
    "elementwise_mul_abs_complex = Function.elementwise_mul_abs_complex.elementwise_mul_abs_complex\n",
    "elementwise_mul_abs_complex2 = Function.elementwise_mul_abs_complex.elementwise_mul_abs_complex2"
   ]
  },
  {
   "cell_type": "code",
   "execution_count": 12,
   "metadata": {},
   "outputs": [
    {
     "name": "stdout",
     "output_type": "stream",
     "text": [
      "T1_high 0.81\n",
      "T1_low 0.27\n",
      "T2: 0.043\n",
      "eig torch.Size([8, 8, 2])\n",
      "noise shape torch.Size([168, 168, 1, 8, 2])\n",
      "K_high shape torch.Size([168, 168, 1, 8, 2])\n",
      "T1_high 0.81\n",
      "T1_low 0.27\n",
      "T2: 0.043\n",
      "eig torch.Size([8, 8, 2])\n",
      "noise shape torch.Size([168, 168, 1, 8, 2])\n",
      "K_high shape torch.Size([168, 168, 1, 8, 2])\n",
      "T1_high 0.81\n",
      "T1_low 0.27\n",
      "T2: 0.043\n",
      "eig torch.Size([8, 8, 2])\n",
      "noise shape torch.Size([168, 168, 1, 8, 2])\n",
      "K_high shape torch.Size([168, 168, 1, 8, 2])\n"
     ]
    }
   ],
   "source": [
    "# k_low[Nkx Nky Nkz Nt Ncoil Complex]\n",
    "for i in range(0,3):\n",
    "    inParam['k_high'] = k_high_T[:,:,:,i,:,:]\n",
    "    inParam['TE_high'] = mat_contents['TE'][0][i] * 1000\n",
    "    inParam['TE_low']   = mat_contents['TE'][0][i] * 1000 * 3/B0_low\n",
    "    k_low[:,:,:,i,:,:] = manipol.klow(inParam)"
   ]
  },
  {
   "cell_type": "code",
   "execution_count": null,
   "metadata": {},
   "outputs": [],
   "source": []
  },
  {
   "cell_type": "code",
   "execution_count": null,
   "metadata": {},
   "outputs": [],
   "source": []
  },
  {
   "cell_type": "code",
   "execution_count": 13,
   "metadata": {},
   "outputs": [
    {
     "name": "stdout",
     "output_type": "stream",
     "text": [
      "torch.Size([168, 168, 1, 3, 8, 2])\n",
      "torch.Size([168, 168, 1, 3, 8, 2])\n"
     ]
    }
   ],
   "source": [
    "print(k_high_T.shape)\n",
    "print(k_low.shape)\n",
    "size_k_low = torch.tensor(168.0)"
   ]
  },
  {
   "cell_type": "code",
   "execution_count": 14,
   "metadata": {},
   "outputs": [
    {
     "name": "stdout",
     "output_type": "stream",
     "text": [
      "torch.Size([1, 3, 8, 168, 168, 2])\n",
      "torch.Size([1, 3, 8, 168, 168, 2])\n"
     ]
    }
   ],
   "source": [
    "k_high_T = k_high_T.permute(2,3,4,0,1,5) #permute to orgenize it to feed it thru the ifft2 function\n",
    "print(k_high_T.shape)\n",
    "\n",
    "k_low = k_low.permute(2,3,4,0,1,5) #permute to orgenize it to feed it thru the ifft2 function\n",
    "print(k_low.shape)"
   ]
  },
  {
   "cell_type": "code",
   "execution_count": 15,
   "metadata": {},
   "outputs": [
    {
     "name": "stdout",
     "output_type": "stream",
     "text": [
      "\n",
      "\n",
      "torch.Size([1, 3, 8, 168, 168, 2])\n",
      "torch.Size([168, 168, 1, 3, 8, 2])\n",
      "torch.Size([1, 3, 8, 168, 168, 2])\n",
      "torch.Size([168, 168, 1, 3, 8, 2])\n"
     ]
    }
   ],
   "source": [
    "recon_high = torch.sqrt(size_k_low*size_k_low)*Ttorch.ifft2_MRI_7T3(k_high_T)\n",
    "recon_low = torch.sqrt(size_k_low*size_k_low)*Ttorch.ifft2_MRI_7T3(k_low)\n",
    "\n",
    "\n",
    "print(recon_high.shape)\n",
    "recon_high = recon_high.permute(3,4,0,1,2,5)\n",
    "print(recon_high.shape)\n",
    "\n",
    "print(recon_low.shape)\n",
    "recon_low = recon_low.permute(3,4,0,1,2,5)\n",
    "print(recon_low.shape)"
   ]
  },
  {
   "cell_type": "code",
   "execution_count": 16,
   "metadata": {},
   "outputs": [
    {
     "name": "stdout",
     "output_type": "stream",
     "text": [
      "torch.Size([168, 168, 1, 8, 2])\n",
      "torch.Size([168, 168, 1, 8, 2])\n"
     ]
    }
   ],
   "source": [
    "recon_high = recon_high[:,:,:,0,:,:]\n",
    "print(recon_high.shape)\n",
    "\n",
    "recon_low = recon_low[:,:,:,0,:,:]\n",
    "print(recon_low.shape)"
   ]
  },
  {
   "cell_type": "code",
   "execution_count": 17,
   "metadata": {},
   "outputs": [],
   "source": [
    "# print(recon_low[:5,:5,0,0,:,:])"
   ]
  },
  {
   "cell_type": "code",
   "execution_count": 18,
   "metadata": {},
   "outputs": [],
   "source": [
    "# abs_power_2 = elementwise_mul_abs_complex(recon_high)\n",
    "\n",
    "# print(abs_power_2.shape)\n",
    "# print(abs_power_2[:5,:5,0])"
   ]
  },
  {
   "cell_type": "code",
   "execution_count": 19,
   "metadata": {},
   "outputs": [
    {
     "name": "stdout",
     "output_type": "stream",
     "text": [
      "torch.Size([168, 168, 1])\n",
      "torch.Size([168, 168, 1])\n"
     ]
    }
   ],
   "source": [
    "img_high_combined =torch.sum(elementwise_mul_abs_complex(recon_high),3)\n",
    "print(img_high_combined.shape)\n",
    "\n",
    "\n",
    "img_low_combined =torch.sum(elementwise_mul_abs_complex(recon_low),3)\n",
    "print(img_low_combined.shape)"
   ]
  },
  {
   "cell_type": "code",
   "execution_count": 21,
   "metadata": {},
   "outputs": [
    {
     "data": {
      "text/plain": [
       "Text(0.5, 1.0, 'Simulated @ 0.3 T')"
      ]
     },
     "execution_count": 21,
     "metadata": {},
     "output_type": "execute_result"
    },
    {
     "data": {
      "image/png": "[encoded data removed]",
      "text/plain": [
       "<Figure size 720x720 with 2 Axes>"
      ]
     },
     "metadata": {
      "needs_background": "light"
     },
     "output_type": "display_data"
    }
   ],
   "source": [
    "plt.figure(figsize=(10, 10))\n",
    "        \n",
    "\n",
    "# accquired\n",
    "plt.subplot(121),\n",
    "plt.imshow(np.sqrt(abs(img_high_combined[:,:,0])),cmap='gray')\n",
    "plt.title('Accquired @ 3T')\n",
    "\n",
    "# low field\n",
    "plt.subplot(122),\n",
    "plt.imshow(np.sqrt(abs(img_low_combined[:,:,0])),cmap='gray');\n",
    "plt.title(\"Simulated @ %s T\" %inParam['B_low'])"
   ]
  },
  {
   "cell_type": "code",
   "execution_count": null,
   "metadata": {
    "pycharm": {}
   },
   "outputs": [],
   "source": [
    "(mat_contents['cv'][0][0][3][0][0])\n",
    "\n",
    "inParam['k_high'] = torch.reshape(k_high_T, (mat_contents['cv'][0][0][1][0][0],mat_contents['cv'][0][0][2][0][0],1,1,mat_contents['cv'][0][0][3][0][0],2))\n",
    "print('k_high shape:', inParam['k_high'].shape)\n",
    "# print('k_high shape:', inParam['k_high'][0][0][0][0][2])  Check for right convert"
   ]
  },
  {
   "cell_type": "code",
   "execution_count": null,
   "metadata": {
    "pycharm": {}
   },
   "outputs": [],
   "source": [
    "#n_cov is the coils noise matrix covariance so actually is the machine state and don't need to back propogate during the learning procedure \n",
    "print(inParam.keys())"
   ]
  },
  {
   "cell_type": "code",
   "execution_count": null,
   "metadata": {
    "pycharm": {}
   },
   "outputs": [],
   "source": [
    "k_low = manipol.klow(inParam)"
   ]
  },
  {
   "cell_type": "code",
   "execution_count": null,
   "metadata": {
    "pycharm": {}
   },
   "outputs": [],
   "source": [
    "cvNkx = mat_contents['cv'][0][0][1][0][0]\n",
    "cvNky = mat_contents['cv'][0][0][2][0][0]\n",
    "cvNcoil = mat_contents['cv'][0][0][3][0][0]\n",
    "\n",
    "\n",
    "k_rad_low = torch.reshape(k_low, (mat_contents['cv'][0][0][1][0][0],mat_contents['cv'][0][0][2][0][0],mat_contents['cv'][0][0][3][0][0],2))\n",
    "k_rad_high = torch.reshape(inParam['k_high'], (mat_contents['cv'][0][0][1][0][0],mat_contents['cv'][0][0][2][0][0],mat_contents['cv'][0][0][3][0][0],2))\n",
    "\n",
    "print('cvNkx',cvNkx)\n",
    "print('cvNky',cvNky)\n",
    "print('cvNcoil',cvNcoil)\n",
    "print('k_low shape:', k_rad_low.shape)\n",
    "print('k_high shape:', k_rad_high.shape)"
   ]
  },
  {
   "cell_type": "markdown",
   "metadata": {
    "pycharm": {}
   },
   "source": [
    "## Recon parameters"
   ]
  },
  {
   "cell_type": "code",
   "execution_count": null,
   "metadata": {
    "pycharm": {}
   },
   "outputs": [],
   "source": [
    "windowsize = 21\n",
    "viewinterval = 21\n",
    "\n",
    "maxFrame = (np.floor(np.divide((k_rad_low.size())[1],windowsize)) - 1).astype(int)\n",
    "\n",
    "print('Maximum frames to be recontructed is:', maxFrame)\n",
    "init_frame = 11\n",
    "if init_frame < 0 or init_frame > maxFrame:\n",
    "    raise ValueError('wrong init_frame!')\n",
    "\n",
    "final_frame = 11\n",
    "if final_frame < init_frame or final_frame > maxFrame:\n",
    "    raise ValueError('wrong final_frame!')\n",
    "    \n",
    "    \n",
    "tot_frame = final_frame - init_frame + 1\n",
    "print('Reconstructing from frame',init_frame,'to', final_frame)\n",
    "\n",
    "frameshow = tot_frame\n",
    "if frameshow > tot_frame:\n",
    "     raise ValueError('wrong frameshow!')\n",
    "\n",
    "os = torch.tensor(2, dtype=torch.double)            # Oversampling factor in gridding\n",
    "kernalsize = 2*os # *os to be in oversampled grid"
   ]
  },
  {
   "cell_type": "code",
   "execution_count": null,
   "metadata": {
    "pycharm": {}
   },
   "outputs": [],
   "source": [
    "tot_spoke = (k_rad_low.size())[1]\n",
    "\n",
    "if tot_frame > 0:\n",
    "    print('Total frame:',tot_frame)\n",
    "    # do nothing, use specified tot_frame\n",
    "else:\n",
    "    if windowsize >= viewinterval:\n",
    "        tot_frame = np.floor((tot_spoke-windowsize)/viewinterval)\n",
    "    else:\n",
    "        tot_frame = np.floor(tot_spoke/(viewinterval));\n"
   ]
  },
  {
   "cell_type": "code",
   "execution_count": null,
   "metadata": {
    "pycharm": {}
   },
   "outputs": [],
   "source": [
    "img_low = torch.zeros(cvNkx*os.int(),cvNkx*os.int(),cvNcoil,tot_frame,2)\n",
    "img_high = torch.zeros(cvNkx*os.int(),cvNkx*os.int(),cvNcoil,tot_frame,2)\n",
    "imgsize = torch.tensor(cvNkx.astype(int))"
   ]
  },
  {
   "cell_type": "code",
   "execution_count": null,
   "metadata": {
    "pycharm": {}
   },
   "outputs": [],
   "source": [
    "# print('img_low',img_low.size())\n",
    "# print('img_high',img_high.size())\n",
    "# print('imgsize',imgsize.size())"
   ]
  },
  {
   "cell_type": "code",
   "execution_count": null,
   "metadata": {
    "pycharm": {}
   },
   "outputs": [],
   "source": [
    "T_tensor = Ttorch.to_tensor(mat_contents['T'])\n",
    "W_tensor = torch.tensor(mat_contents['W'])\n",
    "                        \n",
    "print('T_tensor shape:', T_tensor.size())\n",
    "print('W_tensor shape:', W_tensor.size())"
   ]
  },
  {
   "cell_type": "code",
   "execution_count": null,
   "metadata": {
    "pycharm": {}
   },
   "outputs": [],
   "source": [
    "for tempframe in range(init_frame,final_frame+1):\n",
    "    print(tempframe)\n",
    "    cur_T = T_tensor[:,(tempframe*viewinterval):(tempframe*viewinterval + windowsize),:]\n",
    "    cur_W = W_tensor[:,(tempframe*viewinterval):(tempframe*viewinterval + windowsize)]\n",
    "    cur_k_rad_low = k_rad_low[:,(tempframe*viewinterval) :(tempframe*viewinterval + windowsize),:,:]\n",
    "    cur_k_rad_high = k_rad_high[:,(tempframe*viewinterval) :(tempframe*viewinterval + windowsize),:,:]\n",
    "#     print('cur_T',cur_T[-1,-1,:])\n",
    "#     print('cur_W',cur_W[-1,-1])\n",
    "#     print('cur_k_rad_high',cur_k_rad_high[-1,-1])\n",
    "    \n",
    "#     print('cur_T size:', cur_T.size())\n",
    "#     print('cur_W size:', cur_W.size())\n",
    "#     print('cur_k_rad_low size:', cur_k_rad_low.size())\n",
    "#     print('cur_k_rad_high size:', cur_k_rad_high.size())\n",
    "    \n",
    "    print('img_high',img_high.size()) \n",
    "    print('')\n",
    "    for coil in range(0,cvNcoil):\n",
    "        print('coil',coil)\n",
    "        img_low[:,:,coil,(tempframe - init_frame),:] = gridkb(cur_k_rad_low[:,:,coil,:],cur_T,cur_W,imgsize,os,kernalsize,'image')\n",
    "        img_high[:,:,coil,(tempframe - init_frame),:] = gridkb(cur_k_rad_high[:,:,coil,:],cur_T,cur_W,imgsize,os,kernalsize,'image')\n",
    "#         print(img_high[0,0,0,:,:])\n",
    "    print('Reconstructing frame', tempframe)"
   ]
  },
  {
   "cell_type": "code",
   "execution_count": null,
   "metadata": {},
   "outputs": [],
   "source": [
    "print(torch.sum(elementwise_mul_abs_complex(img_low),2).size())"
   ]
  },
  {
   "cell_type": "code",
   "execution_count": null,
   "metadata": {
    "pycharm": {}
   },
   "outputs": [],
   "source": [
    "print('Displaying from frame',init_frame,'to', init_frame + frameshow -1)\n",
    "\n",
    "# Lowfield\n",
    "# print(Ttorch.complex_abs(img_low).size())\n",
    "img_low_combined = torch.sqrt(torch.sum(elementwise_mul_abs_complex(img_low),2))\n",
    "# img_low_combined = permute(img_low_combined, [ 1 2 4 3])\n",
    "img_low_combined = img_low_combined[129:(128+256) , 129:(128+256),:]\n",
    "\n",
    "#Accquired\n",
    "img_high_combined = torch.sqrt(torch.sum(elementwise_mul_abs_complex(img_high),2))\n",
    "# img_high_combined = permute(img_high_combined, [ 1 2 4 3])\n",
    "img_high_combined = img_high_combined[128:(128+256) , 128:(128+256),:]\n",
    "\n",
    "\n",
    "print(img_high_combined.size())\n"
   ]
  },
  {
   "cell_type": "code",
   "execution_count": null,
   "metadata": {
    "pycharm": {}
   },
   "outputs": [],
   "source": [
    "if(frameshow > 0):\n",
    "    for tempframe in range(0, frameshow):\n",
    "        plt.figure(figsize=(10, 10))\n",
    "        \n",
    "        # accquired\n",
    "        plt.subplot(121),\n",
    "        plt.imshow(abs(img_high_combined[:,:,tempframe]),cmap='gray')\n",
    "        plt.title('Accquired @ 3T')\n",
    "        \n",
    "        # low field\n",
    "        plt.subplot(122),\n",
    "        plt.imshow(abs(img_low_combined[:,:,tempframe]),cmap='gray');\n",
    "        plt.title(\"Simulated @ %s T\" %inParam['B_low'])"
   ]
  },
  {
   "cell_type": "code",
   "execution_count": null,
   "metadata": {},
   "outputs": [],
   "source": []
  }
 ],
 "metadata": {
  "kernelspec": {
   "display_name": "Python 3",
   "language": "python",
   "name": "python3"
  },
  "language_info": {
   "codemirror_mode": {
    "name": "ipython",
    "version": 3
   },
   "file_extension": ".py",
   "mimetype": "text/x-python",
   "name": "python",
   "nbconvert_exporter": "python",
   "pygments_lexer": "ipython3",
   "version": "3.7.3"
  },
  "stem_cell": {
   "cell_type": "raw",
   "metadata": {
    "pycharm": {
     "metadata": false
    }
   },
   "source": ""
  }
 },
 "nbformat": 4,
 "nbformat_minor": 2
}
